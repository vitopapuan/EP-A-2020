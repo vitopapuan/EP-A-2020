{
 "cells": [
  {
   "cell_type": "code",
   "execution_count": 1,
   "metadata": {},
   "outputs": [],
   "source": [
    "import numpy as np \n",
    "import pandas as pd \n",
    "import re\n",
    "import nltk \n",
    "import matplotlib.pyplot as plt\n",
    "%matplotlib inline"
   ]
  },
  {
   "cell_type": "code",
   "execution_count": 2,
   "metadata": {},
   "outputs": [],
   "source": [
    "tweets = pd.read_excel(\"scrapped labeling.xlsx\")"
   ]
  },
  {
   "cell_type": "code",
   "execution_count": 3,
   "metadata": {},
   "outputs": [
    {
     "data": {
      "text/html": [
       "<div>\n",
       "<style scoped>\n",
       "    .dataframe tbody tr th:only-of-type {\n",
       "        vertical-align: middle;\n",
       "    }\n",
       "\n",
       "    .dataframe tbody tr th {\n",
       "        vertical-align: top;\n",
       "    }\n",
       "\n",
       "    .dataframe thead th {\n",
       "        text-align: right;\n",
       "    }\n",
       "</style>\n",
       "<table border=\"1\" class=\"dataframe\">\n",
       "  <thead>\n",
       "    <tr style=\"text-align: right;\">\n",
       "      <th></th>\n",
       "      <th>id_1</th>\n",
       "      <th>Tweet</th>\n",
       "      <th>Tanggal</th>\n",
       "      <th>Jumlah Retweet</th>\n",
       "      <th>Username</th>\n",
       "      <th>Sentimen</th>\n",
       "    </tr>\n",
       "  </thead>\n",
       "  <tbody>\n",
       "    <tr>\n",
       "      <th>0</th>\n",
       "      <td>1253468121106652928</td>\n",
       "      <td>psbb ikut cara bayar pajak kendara cara online</td>\n",
       "      <td>2020-04-23 23:37:43</td>\n",
       "      <td>0</td>\n",
       "      <td>iantariks</td>\n",
       "      <td>Netral</td>\n",
       "    </tr>\n",
       "    <tr>\n",
       "      <th>1</th>\n",
       "      <td>1253465597968388096</td>\n",
       "      <td>ati ati psbb</td>\n",
       "      <td>2020-04-23 23:27:41</td>\n",
       "      <td>0</td>\n",
       "      <td>YUtaq0yaqi</td>\n",
       "      <td>Netral</td>\n",
       "    </tr>\n",
       "    <tr>\n",
       "      <th>2</th>\n",
       "      <td>1253467707980132096</td>\n",
       "      <td>permenhub 25 2020 mana diupload jdih ada bagi ...</td>\n",
       "      <td>2020-04-23 23:36:04</td>\n",
       "      <td>0</td>\n",
       "      <td>AnggoroPurwoto</td>\n",
       "      <td>Netral</td>\n",
       "    </tr>\n",
       "    <tr>\n",
       "      <th>3</th>\n",
       "      <td>1253463769457425920</td>\n",
       "      <td>warga masih bandel psbb tahap ii bakal jerat h...</td>\n",
       "      <td>2020-04-23 23:20:25</td>\n",
       "      <td>0</td>\n",
       "      <td>Estr0gen</td>\n",
       "      <td>Netral</td>\n",
       "    </tr>\n",
       "    <tr>\n",
       "      <th>4</th>\n",
       "      <td>1253469916872815104</td>\n",
       "      <td>ramadhan psbb perum gpi graha padalarang indah</td>\n",
       "      <td>2020-04-23 23:44:51</td>\n",
       "      <td>0</td>\n",
       "      <td>hidayatedi26</td>\n",
       "      <td>Netral</td>\n",
       "    </tr>\n",
       "  </tbody>\n",
       "</table>\n",
       "</div>"
      ],
      "text/plain": [
       "                  id_1                                              Tweet  \\\n",
       "0  1253468121106652928     psbb ikut cara bayar pajak kendara cara online   \n",
       "1  1253465597968388096                                       ati ati psbb   \n",
       "2  1253467707980132096  permenhub 25 2020 mana diupload jdih ada bagi ...   \n",
       "3  1253463769457425920  warga masih bandel psbb tahap ii bakal jerat h...   \n",
       "4  1253469916872815104     ramadhan psbb perum gpi graha padalarang indah   \n",
       "\n",
       "              Tanggal  Jumlah Retweet        Username Sentimen  \n",
       "0 2020-04-23 23:37:43               0       iantariks   Netral  \n",
       "1 2020-04-23 23:27:41               0      YUtaq0yaqi   Netral  \n",
       "2 2020-04-23 23:36:04               0  AnggoroPurwoto   Netral  \n",
       "3 2020-04-23 23:20:25               0        Estr0gen   Netral  \n",
       "4 2020-04-23 23:44:51               0    hidayatedi26   Netral  "
      ]
     },
     "execution_count": 3,
     "metadata": {},
     "output_type": "execute_result"
    }
   ],
   "source": [
    "tweets.head()"
   ]
  },
  {
   "cell_type": "code",
   "execution_count": 4,
   "metadata": {},
   "outputs": [
    {
     "data": {
      "text/plain": [
       "<AxesSubplot:ylabel='Sentimen'>"
      ]
     },
     "execution_count": 4,
     "metadata": {},
     "output_type": "execute_result"
    },
    {
     "data": {
      "image/png": "[encoded data removed]",
      "text/plain": [
       "<Figure size 432x288 with 1 Axes>"
      ]
     },
     "metadata": {},
     "output_type": "display_data"
    }
   ],
   "source": [
    "tweets.Sentimen.value_counts().plot(kind='pie', autopct='%1.0f%%', colors=[\"red\", \"yellow\", \"green\"])"
   ]
  },
  {
   "cell_type": "code",
   "execution_count": 5,
   "metadata": {},
   "outputs": [],
   "source": [
    "tweets.loc[tweets.Sentimen == \"negatif\", \"Sentimen\"] = \"Negatif\"\n",
    "tweets.loc[tweets.Sentimen == \"negatuf\", \"Sentimen\"] = \"Negatif\"\n",
    "tweets.loc[tweets.Sentimen == \"netral\", \"Sentimen\"] = \"Netral\"\n",
    "tweets.loc[tweets.Sentimen == \"positif\", \"Sentimen\"] = \"Positif\"\n",
    "tweets.loc[tweets.Sentimen == \"Negatuf\", \"Sentimen\"] = \"Negatif\""
   ]
  },
  {
   "cell_type": "code",
   "execution_count": 6,
   "metadata": {},
   "outputs": [
    {
     "data": {
      "text/plain": [
       "<AxesSubplot:ylabel='Sentimen'>"
      ]
     },
     "execution_count": 6,
     "metadata": {},
     "output_type": "execute_result"
    },
    {
     "data": {
      "image/png": "[encoded data removed]",
      "text/plain": [
       "<Figure size 432x288 with 1 Axes>"
      ]
     },
     "metadata": {},
     "output_type": "display_data"
    }
   ],
   "source": [
    "tweets.Sentimen.value_counts().plot(kind='pie', autopct='%1.0f%%', colors=[\"red\", \"yellow\", \"green\"])"
   ]
  },
  {
   "cell_type": "code",
   "execution_count": 7,
   "metadata": {},
   "outputs": [],
   "source": [
    "# from nltk.corpus import stopwords\n",
    "# from sklearn.feature_extraction.text import TfidfVectorizer\n",
    "\n",
    "# vectorizer = TfidfVectorizer (max_features=2500, min_df=7, max_df=0.8)\n",
    "# processed_features = vectorizer.fit_transform(tweets.Tweet).toarray()"
   ]
  },
  {
   "cell_type": "code",
   "execution_count": 18,
   "metadata": {},
   "outputs": [],
   "source": [
    "from sklearn.feature_extraction.text import CountVectorizer\n",
    "from scipy.sparse import hstack\n",
    "count_vectorizer = CountVectorizer(ngram_range=(1,5))\n",
    "\n",
    "vectorized_data = count_vectorizer.fit_transform(tweets.Tweet)\n",
    "processed_features = hstack((np.array(range(0,vectorized_data.shape[0]))[:,None], vectorized_data))"
   ]
  },
  {
   "cell_type": "code",
   "execution_count": 19,
   "metadata": {},
   "outputs": [
    {
     "data": {
      "text/plain": [
       "<466x15880 sparse matrix of type '<class 'numpy.int64'>'\n",
       "\twith 20980 stored elements in COOrdinate format>"
      ]
     },
     "execution_count": 19,
     "metadata": {},
     "output_type": "execute_result"
    }
   ],
   "source": [
    "processed_features"
   ]
  },
  {
   "cell_type": "code",
   "execution_count": 20,
   "metadata": {},
   "outputs": [],
   "source": [
    "labels = tweets.iloc[:, 5].values"
   ]
  },
  {
   "cell_type": "code",
   "execution_count": 21,
   "metadata": {},
   "outputs": [],
   "source": [
    "from sklearn.model_selection import train_test_split\n",
    "\n",
    "X_train, X_test, y_train, y_test = train_test_split(processed_features, labels, test_size=0.3, random_state=0)"
   ]
  },
  {
   "cell_type": "code",
   "execution_count": 31,
   "metadata": {},
   "outputs": [
    {
     "data": {
      "text/plain": [
       "OneVsRestClassifier(estimator=RandomForestClassifier(n_estimators=200,\n",
       "                                                     random_state=0))"
      ]
     },
     "execution_count": 31,
     "metadata": {},
     "output_type": "execute_result"
    }
   ],
   "source": [
    "from sklearn.ensemble import RandomForestClassifier\n",
    "\n",
    "text_classifier = OneVsRestClassifier(RandomForestClassifier(n_estimators=200, random_state=0))\n",
    "text_classifier.fit(X_train, y_train)"
   ]
  },
  {
   "cell_type": "code",
   "execution_count": 32,
   "metadata": {},
   "outputs": [],
   "source": [
    "predictions = text_classifier.predict(X_test)"
   ]
  },
  {
   "cell_type": "code",
   "execution_count": 33,
   "metadata": {},
   "outputs": [
    {
     "name": "stdout",
     "output_type": "stream",
     "text": [
      "[[ 0 38  0]\n",
      " [ 1 81  2]\n",
      " [ 0 18  0]]\n",
      "              precision    recall  f1-score   support\n",
      "\n",
      "     Negatif       0.00      0.00      0.00        38\n",
      "      Netral       0.59      0.96      0.73        84\n",
      "     Positif       0.00      0.00      0.00        18\n",
      "\n",
      "    accuracy                           0.58       140\n",
      "   macro avg       0.20      0.32      0.24       140\n",
      "weighted avg       0.35      0.58      0.44       140\n",
      "\n",
      "0.5785714285714286\n"
     ]
    }
   ],
   "source": [
    "from sklearn.metrics import classification_report, confusion_matrix, accuracy_score\n",
    "\n",
    "print(confusion_matrix(y_test,predictions))\n",
    "print(classification_report(y_test,predictions))\n",
    "print(accuracy_score(y_test, predictions))"
   ]
  },
  {
   "cell_type": "code",
   "execution_count": 34,
   "metadata": {},
   "outputs": [
    {
     "data": {
      "text/plain": [
       "OneVsRestClassifier(estimator=SVC(C=100.0, class_weight='balanced', gamma=0.01,\n",
       "                                  kernel='linear', probability=True))"
      ]
     },
     "execution_count": 34,
     "metadata": {},
     "output_type": "execute_result"
    }
   ],
   "source": [
    "from sklearn import svm\n",
    "from sklearn.multiclass import OneVsRestClassifier\n",
    "clf = OneVsRestClassifier(svm.SVC(gamma=0.01, C=100., probability=True, class_weight='balanced', kernel='linear'))\n",
    "clf.fit(X_train, y_train)"
   ]
  },
  {
   "cell_type": "code",
   "execution_count": 35,
   "metadata": {},
   "outputs": [],
   "source": [
    "predictions = clf.predict(X_test)"
   ]
  },
  {
   "cell_type": "code",
   "execution_count": 36,
   "metadata": {},
   "outputs": [
    {
     "name": "stdout",
     "output_type": "stream",
     "text": [
      "[[ 0 37  1]\n",
      " [ 3 77  4]\n",
      " [ 1 16  1]]\n",
      "              precision    recall  f1-score   support\n",
      "\n",
      "     Negatif       0.00      0.00      0.00        38\n",
      "      Netral       0.59      0.92      0.72        84\n",
      "     Positif       0.17      0.06      0.08        18\n",
      "\n",
      "    accuracy                           0.56       140\n",
      "   macro avg       0.25      0.32      0.27       140\n",
      "weighted avg       0.38      0.56      0.44       140\n",
      "\n",
      "0.5571428571428572\n"
     ]
    }
   ],
   "source": [
    "print(confusion_matrix(y_test,predictions))\n",
    "print(classification_report(y_test,predictions))\n",
    "print(accuracy_score(y_test, predictions))"
   ]
  },
  {
   "cell_type": "code",
   "execution_count": null,
   "metadata": {},
   "outputs": [],
   "source": []
  }
 ],
 "metadata": {
  "kernelspec": {
   "display_name": "Python 3",
   "language": "python",
   "name": "python3"
  },
  "language_info": {
   "codemirror_mode": {
    "name": "ipython",
    "version": 3
   },
   "file_extension": ".py",
   "mimetype": "text/x-python",
   "name": "python",
   "nbconvert_exporter": "python",
   "pygments_lexer": "ipython3",
   "version": "3.8.5"
  }
 },
 "nbformat": 4,
 "nbformat_minor": 4
}
